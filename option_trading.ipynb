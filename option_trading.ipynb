{
 "cells": [
  {
   "cell_type": "code",
   "execution_count": 1,
   "metadata": {},
   "outputs": [],
   "source": [
    "import numpy as np\n",
    "import pandas as pd\n",
    "import requests\n",
    "import warnings\n",
    "import yfinance as yf\n",
    "import time\n",
    "from datetime import datetime\n",
    "import sqlite3\n",
    "import threading\n"
   ]
  },
  {
   "cell_type": "markdown",
   "metadata": {},
   "source": [
    "Create a database for option data"
   ]
  },
  {
   "cell_type": "code",
   "execution_count": 2,
   "metadata": {},
   "outputs": [],
   "source": [
    "# Connect to the SQLite database. If it doesn't exist, it will be created.\n",
    "conn = sqlite3.connect('/option_database/options.db')\n",
    "\n",
    "# Create a cursor object using the cursor method\n",
    "cursor = conn.cursor()\n",
    "#'contractSymbol', 'lastTradeDate', 'strike', 'lastPrice', 'bid', 'ask',\n",
    "    #    'change', 'percentChange', 'volume', 'openInterest',\n",
    "    #    'impliedVolatility', 'inTheMoney', 'contractSize', 'currency'\n",
    "# SQL statement to create a table for call options\n",
    "create_table_calls = \"\"\"\n",
    "CREATE TABLE IF NOT EXISTS calls (\n",
    "    contractSymbol TEXT,\n",
    "    timestamp DATETIME,\n",
    "    lastTradeDate TEXT,\n",
    "    strike REAL,\n",
    "    lastPrice REAL,\n",
    "    bid REAL,\n",
    "    ask REAL,\n",
    "    change REAL,\n",
    "    percentChange REAL,\n",
    "    volume INTEGER,\n",
    "    openInterest INTEGER,\n",
    "    impliedVolatility REAL,\n",
    "    inTheMoney TEXT,\n",
    "    contractSize TEXT,\n",
    "    currency TEXT,\n",
    "    expiration_date TEXT,\n",
    "    PRIMARY KEY (contractSymbol, timestamp)\n",
    ");\n",
    "\"\"\"\n",
    "\n",
    "# SQL statement to create a table for put options\n",
    "create_table_puts = \"\"\"\n",
    "CREATE TABLE IF NOT EXISTS puts (\n",
    "    contractSymbol TEXT,\n",
    "    timestamp DATETIME,\n",
    "    lastTradeDate TEXT,\n",
    "    strike REAL,\n",
    "    lastPrice REAL,\n",
    "    bid REAL,\n",
    "    ask REAL,\n",
    "    change REAL,\n",
    "    percentChange REAL,\n",
    "    volume INTEGER,\n",
    "    openInterest INTEGER,\n",
    "    impliedVolatility REAL,\n",
    "    inTheMoney TEXT,\n",
    "    contractSize TEXT,\n",
    "    currency TEXT,\n",
    "    expiration_date TEXT,\n",
    "    PRIMARY KEY (contractSymbol, timestamp)\n",
    ");\n",
    "\"\"\"\n",
    "\n",
    "# Execute the SQL statements to create the tables\n",
    "cursor.execute(create_table_calls)\n",
    "cursor.execute(create_table_puts)\n",
    "\n",
    "# Commit the changes\n",
    "conn.commit()\n",
    "\n",
    "# Close the database connection\n",
    "conn.close()\n",
    "\n"
   ]
  },
  {
   "cell_type": "markdown",
   "metadata": {},
   "source": [
    "Fetch data from Yfiance"
   ]
  },
  {
   "cell_type": "code",
   "execution_count": null,
   "metadata": {},
   "outputs": [],
   "source": [
    "# stock symbols\n",
    "stock_symbols = ['TSLA', 'AAPL', 'GOOGL', 'AMZN', 'PLTR', 'AMD', 'NVDA']\n",
    "\n",
    "# Function to fetch options data\n",
    "def fetch_options_data(symbol, expiration_date):\n",
    "    ticker = yf.Ticker(symbol)\n",
    "    options_chain = ticker.option_chain(expiration_date)\n",
    "    return options_chain.calls, options_chain.puts\n",
    "\n",
    "# Function to insert data into the database\n",
    "def insert_data_to_db(db_connection, table_name, data_frame, expiration_date):\n",
    "    data_frame['timestamp'] = datetime.now() # Add a timestamp column to the dataframe with the current time\n",
    "    data_frame['expiration_date'] = expiration_date\n",
    "    data_frame.to_sql(table_name, db_connection, if_exists='append', index=False)\n",
    "\n",
    "# Function to fetch and store data for a specific symbol and expiration date\n",
    "def handle_data_for_symbol_and_date(symbol, expiration_date, interval, stop_event):\n",
    "    while not stop_event.is_set():\n",
    "        conn = sqlite3.connect('/option_database/options.db')\n",
    "        try:\n",
    "            # Fetch the options data\n",
    "            calls, puts = fetch_options_data(symbol, expiration_date)\n",
    "            \n",
    "            # Insert the data into the database\n",
    "            insert_data_to_db(conn, 'calls', calls, expiration_date)\n",
    "            insert_data_to_db(conn, 'puts', puts, expiration_date)\n",
    "        except Exception as e:\n",
    "            print(\"An error occurred:\", e)\n",
    "        finally:\n",
    "            conn.close()\n",
    "        \n",
    "        # Wait for the specified interval (e.g., 1 hour)\n",
    "        time.sleep(interval)\n",
    "\n",
    "# Main function to initiate threads\n",
    "def main():\n",
    "    update_interval = 3600  # Update every 1 hour\n",
    "    threads = []\n",
    "    stop_events = []\n",
    "\n",
    "    for symbol in stock_symbols:\n",
    "        ticker = yf.Ticker(symbol)\n",
    "        expirations = ticker.options\n",
    "\n",
    "        for expiration_date in expirations:\n",
    "            stop_event = threading.Event()\n",
    "            thread = threading.Thread(target=handle_data_for_symbol_and_date, \n",
    "                                      args=(symbol, expiration_date, update_interval, stop_event))\n",
    "            thread.start()\n",
    "            threads.append(thread)\n",
    "            stop_events.append(stop_event)\n",
    "\n",
    "    # Here you can implement the logic to stop the threads by setting the stop_events\n",
    "\n",
    "# Run the script\n",
    "if __name__ == \"__main__\":\n",
    "    main()\n"
   ]
  },
  {
   "cell_type": "code",
   "execution_count": null,
   "metadata": {},
   "outputs": [],
   "source": []
  },
  {
   "cell_type": "code",
   "execution_count": null,
   "metadata": {},
   "outputs": [],
   "source": []
  },
  {
   "cell_type": "code",
   "execution_count": null,
   "metadata": {},
   "outputs": [],
   "source": []
  },
  {
   "cell_type": "code",
   "execution_count": null,
   "metadata": {},
   "outputs": [],
   "source": []
  },
  {
   "cell_type": "code",
   "execution_count": null,
   "metadata": {},
   "outputs": [],
   "source": []
  },
  {
   "cell_type": "code",
   "execution_count": null,
   "metadata": {},
   "outputs": [],
   "source": []
  },
  {
   "cell_type": "code",
   "execution_count": null,
   "metadata": {},
   "outputs": [],
   "source": []
  },
  {
   "cell_type": "code",
   "execution_count": null,
   "metadata": {},
   "outputs": [],
   "source": []
  },
  {
   "cell_type": "code",
   "execution_count": null,
   "metadata": {},
   "outputs": [],
   "source": []
  }
 ],
 "metadata": {
  "kernelspec": {
   "display_name": "Python 3",
   "language": "python",
   "name": "python3"
  },
  "language_info": {
   "codemirror_mode": {
    "name": "ipython",
    "version": 3
   },
   "file_extension": ".py",
   "mimetype": "text/x-python",
   "name": "python",
   "nbconvert_exporter": "python",
   "pygments_lexer": "ipython3",
   "version": "3.11.7"
  }
 },
 "nbformat": 4,
 "nbformat_minor": 2
}
