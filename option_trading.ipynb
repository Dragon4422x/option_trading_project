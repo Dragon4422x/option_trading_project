{
 "cells": [
  {
   "cell_type": "code",
   "execution_count": 44,
   "metadata": {},
   "outputs": [],
   "source": [
    "import numpy as np\n",
    "import pandas as pd\n",
    "import requests\n",
    "import warnings\n",
    "import yfinance as yf\n",
    "import praw\n",
    "import re\n",
    "import time\n",
    "import datetime\n"
   ]
  },
  {
   "cell_type": "code",
   "execution_count": 52,
   "metadata": {},
   "outputs": [
    {
     "name": "stderr",
     "output_type": "stream",
     "text": [
      "C:\\Users\\14453\\AppData\\Local\\Temp\\ipykernel_16716\\964053074.py:9: DeprecationWarning: Positional arguments for 'BaseListingMixin.top' will no longer be supported in PRAW 8.\n",
      "Call this function with 'time_filter' as a keyword argument.\n",
      "  subreddit = reddit.subreddit('wallstreetbets').top('day',limit = 5)  # get the top 5 hot posts from wsb\n"
     ]
    },
    {
     "name": "stdout",
     "output_type": "stream",
     "text": [
      "title:  Berlin researchers hacked Tesla autopilot to unlock “Elon mode”\n",
      "post score:  3220\n",
      "description:  &#x200B;\n",
      "\n",
      "https://preview.redd.it/j3f0upiep29c1.png?width=750&format=png&auto=webp&s=d1371196f828ad273887dd201494a0b4d94eb67f\n",
      "\n",
      "[https://cybernews.com/tech/berlin-researchers-hacked-tesla-autopilot/](https://cybernews.com/tech/berlin-researchers-hacked-tesla-autopilot/)\n",
      "post time:  2023-12-28 17:47:34\n",
      "comment:  Here you go you filthy animals.\n",
      "\n",
      "The “Elon mode” is a secret hands-free full self-driving feature that previously hackers managed to discover. This executive mode allows Tesla vehicles to self-drive without any driver input or monitoring. This mode was discovered by @greentheonly in June 2023, who tested the mode and posted some clips on social media.   comment score:  3950\n",
      "comment:  > However, the hack requires physical access to the circuit board, removing and reinstalling it without damage, and soldering skills. Therefore, such an attack would not be very practical outside the laboratory. \n",
      "\n",
      "TIL I have a laboratory at home.   comment score:  2168\n",
      "comment:  So, how do i buy calls on Technische Universität Berlin?   comment score:  732\n",
      "comment:  > Previously the same researchers at Blackhat demonstrated an infotainment AMD processor hack to enable free seat heaters.  \n",
      "\n",
      "Any company that installs seat heaters and puts a paywall deserves to die and will not have me as a customer.   comment score:  385\n",
      "comment:  The autopilot on Elon mode makes the trolley decision by saving maximum time by running over as many people as possible.   comment score:  518\n",
      "comment:  But, but we were supposed to have full self-driving vehicles by 2016.   comment score:  442\n",
      "comment:  Another feature of Elon Mode is it will automatically deploy Tesla Bots to remove street protesters if they're blocking the street.  The pure genius of it is that the Tesla Bots then take the protestors to the factory and turn them into more Tesla Bots   comment score:  157\n",
      "comment:  Who cares about Elon mode, I'd prefer to unlock auto-start, heated seats, and whatever else companies think they can hide behind a subscription.   comment score:  16\n",
      "comment:  “Elon Mode” is when the car says “interesting!” to any racist statement you make   comment score:  687\n",
      "comment:  >Tesla's autopilot feature is nothing more than a marketing gimmick. It's not even close to being as safe or effective as actual human drivers.   comment score:  192\n",
      "comment:  It tells others drivers \"Fuck you\" when they flip you off for driving like an asshole.   comment score:  21\n",
      "comment:  Until the car starts posting unhinged takes on Twitter on my behalf I'm not interested.   comment score:  23\n",
      "title:  💩\n",
      "post score:  2162\n",
      "description:  \n",
      "post time:  2023-12-28 21:08:10\n",
      "comment:  Where is the live stream 🤔   comment score:  660\n",
      "comment:  u/luvmafammie we know you see this 🍽️💩   comment score:  254\n",
      "comment:  Link to the stream of shit eating please.   comment score:  186\n",
      "comment:  Haha I was hoping someone would post this, stream or ban   comment score:  78\n",
      "comment:  Damn the market almost bailed him out at the end, just that last minute uptick   comment score:  46\n",
      "comment:  Mods, proof or ban   comment score:  38\n",
      "comment:  He eats pieces of shit for breakfast   comment score:  37\n",
      "comment:  Think bro deleted their Reddit profile 😂😂😂   comment score:  31\n",
      "comment:  u/luvmafammie   comment score:  73\n",
      "comment:  Is he a Vikings fan too?   comment score:  17\n",
      "comment:  What flavor of shit will he be eating?   comment score:  16\n",
      "comment:     comment score:  11\n",
      "comment:  Please send me the link if he really does the livestream   comment score:  11\n",
      "comment:  Dang it, does the fail to load on u/luvmafammie mean they closed account?   comment score:  11\n",
      "comment:  👆mods this guy right here   comment score:  23\n",
      "comment:  light mode user 😨   comment score:  12\n",
      "title:  You got 2 choices death or death\n",
      "post score:  1023\n",
      "description:  \n",
      "post time:  2023-12-28 22:01:10\n",
      "comment:  My advisor didn't buy Nvidia stock, losing me potential gains of 50k. How do I deal with this?   comment score:  254\n",
      "comment:  If someone owes you money and they are not paying, there are a few things you can do in order to try and collect. First, send them a written demand for payment. This should include how much they owe you, what the money is for, and when you expect to receive it. If this does not work, you may need to take legal action by filing a lawsuit or using a debt collection agency.   comment score:  59\n",
      "comment:  Somewhat related is the story of Bill Ackman's $10MM donation of CPNG stock to Harvard, where he offered to cover the difference between $10MM and the value they sold it at when the company went public, if he got to determine the use for any funds they got from it if it went above $15MM.\n",
      "\n",
      "The stock value was worth $85MM when it IPO'd but Harvard had already sold it for $10MM in a private deal, despite Ackman being willing to cover the difference.\n",
      "\n",
      "Quite an interesting read, but hard to find any articles offhand without a paywall.   comment score:  28\n",
      "title:  Recession is over, Americans are becoming unhealthy again\n",
      "post score:  903\n",
      "description:  Low quality effort, because I'm a low quality man. Now that Americans have a false sense of security in jobs and their economy and shit, they're spending like it's going out of style. But on shit that doesn't matter. \n",
      "\n",
      "Stocks that are going down (that went up during the recession.) Gym stocks. Grocery store food stocks. \n",
      "\n",
      "Americans don't give a fuck about cooking anymore, they're all too lazy. Despite food being more expensive than ever more Americans are dining out. Kroger, General Mills, Tyson foods. All these bad bois are going down that went up during the 2020 recession. I'm sure there's multiple others, but I'm also American and also lazy as fuck. \n",
      "\n",
      "McDonald's just introduced a new chain, that's the exact same as their old one, but fuck, if that doesn't get Americans dicks rock hard. Fuck Target, we're shopping on Amazon today. Walmart and Target both sell clothes and groceries, but Walmart doesn't have shit groceries. We're eliminating the middle class, so no more Target. Fuck Target. Poor people shop at Walmart and we're all becoming poor. \n",
      "\n",
      "You got this, we're shorting Target going into 2024.\n",
      "post time:  2023-12-29 01:48:40\n",
      "comment:  Everyone gonna be on Ozempic in 2024, who is going to need a gym or fast food or grocery stores?   comment score:  692\n",
      "comment:  This was a decent post. Except I’m already poor and have no intention on staying so.   comment score:  233\n",
      "comment:  >Stocks that are going down (that went up during the recession.) Gym stocks. Grocery store food stocks.\n",
      "\n",
      "everyone is being forced to return to the fuckin office, no time for gym or cooking   comment score:  213\n",
      "comment:  Jokes on you losers, I got a head start and stayed unhealthy.   comment score:  46\n",
      "comment:  Gotta love posts that are almost all red herring   comment score:  61\n",
      "comment:  I still can't figure out where all these people are getting their money.\n",
      "\n",
      "I'm an EE and I'm having a crap time finding a new job, almost no one seems to be hiring for a fair wage--getting all below average offers and I'm making garbage money at my current job.\n",
      "\n",
      "I just don't get it. I'm single, and have a mortgage below 3% no car payment and I'm still basically living paycheck to paycheck.   comment score:  27\n",
      "comment:  Gonna invest my life savings in fast food chains after reading this   comment score:  68\n",
      "comment:  Poor people have always been unhealthy.  Why do you think we are so fond of Wendy’s here?   comment score:  18\n",
      "reply:  Wendy's is not  poor. The last time I went there I paid $17 for a single combo... Also the last time I would ever set foot in a Wendy's.   reply score:  23\n",
      "comment:  I no longer believe the narrative that poor people shop at Wal-Mart.   comment score:  57\n",
      "reply:  poors buy at Walmart. middle class goes to costco.   reply score:  73\n",
      "comment:  As long as target keeps doing their curbside pickup shit, imma keep shopping the hell out of target.   comment score:  25\n",
      "comment:  If Americans are so lazy then why are American workers among the most productive in the world. They beat Japan, china, most of the world. In 2019 the US was 4th, behind a couple small countries and Germany (no surprise). The \"lazy\" American trope is a classic soviet era invention to generate a negative image of their adversary so they can demoralize them.   comment score:  44\n",
      "title:  MARSHAWN LYNCH BULL SIGNAL BUY BUY BUY\n",
      "post score:  796\n",
      "description:  \n",
      "post time:  2023-12-29 00:56:49\n",
      "comment:  I’m just here so I don’t get fined   comment score:  124\n",
      "comment:  Sitting down to the ball game and just had to make sure this got to wsb. I know most of you won't find out till wife's boyfriend gets back.   comment score:  37\n",
      "comment:  Wait but what does Ja say about this.   comment score:  23\n",
      "comment:  Looking for Merrill but got Marshawn   comment score:  18\n",
      "comment:  HOLD MUH DICK!!!   comment score:  41\n",
      "comment:  Marshawn Lynch is a national treasure.   comment score:  37\n",
      "comment:  Did he really just show up to the NYSE with a suitcase full of fat stacks...   comment score:  12\n"
     ]
    }
   ],
   "source": [
    "image_code = re.compile(r'\\!\\[img\\]\\(emote\\|t5_2th52\\|\\d+\\)') # regex to remove image code from comments\n",
    "reddit = praw.Reddit(client_id='8v0pOcNHBPUSfzaN19eHFw',\n",
    "                     client_secret='VS9J5Uhy8Mf3JOGOk2qmMxKO-AZSCA',\n",
    "                     user_agent='stock-scraper-script by /u/Dismal_Honeydew7374 v1.0')\n",
    "\n",
    "# start_time = int(datetime.datetime(2023, 12, 21).timestamp())\n",
    "# end_time = int(datetime.datetime(2023, 12, 21).timestamp())\n",
    "\n",
    "subreddit = reddit.subreddit('wallstreetbets').top('day',limit = 5)  # get the top 5 hot posts from wsb\n",
    "for post in subreddit:\n",
    "    created_time = datetime.datetime.utcfromtimestamp(post.created_utc)\n",
    "    print(\"title: \",post.title)\n",
    "    print(\"post score: \",post.score)\n",
    "    print(\"description: \",post.selftext)\n",
    "    print(\"post time: \",created_time)\n",
    "\n",
    "    # Replace MoreComments with actual comments\n",
    "    post.comments.replace_more(limit=5)\n",
    "    \n",
    "    for comment in post.comments:\n",
    "        clean_comment = re.sub(image_code, '', comment.body)\n",
    "        if comment.score > 10:\n",
    "            print(\"comment: \",clean_comment,\" \",\"comment score: \",comment.score)\n",
    "            for reply in comment.replies:\n",
    "                clean_comment = re.sub(image_code, '', reply.body)\n",
    "                if reply.score > comment.score:\n",
    "                    print(\"reply: \",clean_comment,\" \",\"reply score: \",reply.score)"
   ]
  },
  {
   "cell_type": "code",
   "execution_count": null,
   "metadata": {},
   "outputs": [],
   "source": []
  },
  {
   "cell_type": "code",
   "execution_count": null,
   "metadata": {},
   "outputs": [],
   "source": []
  },
  {
   "cell_type": "code",
   "execution_count": null,
   "metadata": {},
   "outputs": [],
   "source": []
  },
  {
   "cell_type": "code",
   "execution_count": null,
   "metadata": {},
   "outputs": [],
   "source": []
  },
  {
   "cell_type": "code",
   "execution_count": null,
   "metadata": {},
   "outputs": [],
   "source": []
  },
  {
   "cell_type": "code",
   "execution_count": null,
   "metadata": {},
   "outputs": [],
   "source": []
  },
  {
   "cell_type": "code",
   "execution_count": null,
   "metadata": {},
   "outputs": [],
   "source": []
  },
  {
   "cell_type": "code",
   "execution_count": null,
   "metadata": {},
   "outputs": [],
   "source": []
  },
  {
   "cell_type": "code",
   "execution_count": null,
   "metadata": {},
   "outputs": [],
   "source": []
  },
  {
   "cell_type": "code",
   "execution_count": null,
   "metadata": {},
   "outputs": [],
   "source": []
  },
  {
   "cell_type": "code",
   "execution_count": null,
   "metadata": {},
   "outputs": [],
   "source": []
  }
 ],
 "metadata": {
  "kernelspec": {
   "display_name": "Python 3",
   "language": "python",
   "name": "python3"
  },
  "language_info": {
   "codemirror_mode": {
    "name": "ipython",
    "version": 3
   },
   "file_extension": ".py",
   "mimetype": "text/x-python",
   "name": "python",
   "nbconvert_exporter": "python",
   "pygments_lexer": "ipython3",
   "version": "3.11.7"
  }
 },
 "nbformat": 4,
 "nbformat_minor": 2
}
