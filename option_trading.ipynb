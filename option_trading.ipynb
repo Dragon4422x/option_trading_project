{
 "cells": [
  {
   "cell_type": "code",
   "execution_count": 5,
   "metadata": {},
   "outputs": [],
   "source": [
    "import numpy as np\n",
    "import pandas as pd\n",
    "import requests\n",
    "import warnings\n",
    "import yfinance as yf\n",
    "import praw"
   ]
  },
  {
   "cell_type": "code",
   "execution_count": 19,
   "metadata": {},
   "outputs": [
    {
     "name": "stdout",
     "output_type": "stream",
     "text": [
      "title:  Daily Discussion Thread for December 19, 2023\n",
      "title:  Most Anticipated Earnings Releases for the week beginning December 18th, 2023\n",
      "title:  This couple had $50 million dollars. The couple say that JPMorgan lost their finances, leading to $1.5 million total.\n",
      "title:  Netflix Is Going Down\n",
      "title:  Recession Imminent\n"
     ]
    }
   ],
   "source": [
    "reddit = praw.Reddit(client_id='8v0pOcNHBPUSfzaN19eHFw',\n",
    "                     client_secret='VS9J5Uhy8Mf3JOGOk2qmMxKO-AZSCA',\n",
    "                     user_agent='stock-scraper-script by /u/Dismal_Honeydew7374 v1.0')\n",
    "\n",
    "subreddit = reddit.subreddit('wallstreetbets').hot(limit = 5)  # or specify a subreddit\n",
    "for post in subreddit:\n",
    "    print(\"title: \",post.title)\n",
    "    # for i in post.comments:\n",
    "    #     print(\"comments: \",i.body)"
   ]
  },
  {
   "cell_type": "code",
   "execution_count": null,
   "metadata": {},
   "outputs": [],
   "source": []
  },
  {
   "cell_type": "code",
   "execution_count": null,
   "metadata": {},
   "outputs": [],
   "source": []
  },
  {
   "cell_type": "code",
   "execution_count": null,
   "metadata": {},
   "outputs": [],
   "source": []
  },
  {
   "cell_type": "code",
   "execution_count": null,
   "metadata": {},
   "outputs": [],
   "source": []
  },
  {
   "cell_type": "code",
   "execution_count": null,
   "metadata": {},
   "outputs": [],
   "source": []
  },
  {
   "cell_type": "code",
   "execution_count": null,
   "metadata": {},
   "outputs": [],
   "source": []
  },
  {
   "cell_type": "code",
   "execution_count": null,
   "metadata": {},
   "outputs": [],
   "source": []
  },
  {
   "cell_type": "code",
   "execution_count": null,
   "metadata": {},
   "outputs": [],
   "source": []
  },
  {
   "cell_type": "code",
   "execution_count": null,
   "metadata": {},
   "outputs": [],
   "source": []
  },
  {
   "cell_type": "code",
   "execution_count": null,
   "metadata": {},
   "outputs": [],
   "source": []
  },
  {
   "cell_type": "code",
   "execution_count": null,
   "metadata": {},
   "outputs": [],
   "source": []
  }
 ],
 "metadata": {
  "kernelspec": {
   "display_name": "Python 3",
   "language": "python",
   "name": "python3"
  },
  "language_info": {
   "codemirror_mode": {
    "name": "ipython",
    "version": 3
   },
   "file_extension": ".py",
   "mimetype": "text/x-python",
   "name": "python",
   "nbconvert_exporter": "python",
   "pygments_lexer": "ipython3",
   "version": "3.11.7"
  }
 },
 "nbformat": 4,
 "nbformat_minor": 2
}
